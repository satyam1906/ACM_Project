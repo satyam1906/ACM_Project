{
  "nbformat": 4,
  "nbformat_minor": 0,
  "metadata": {
    "colab": {
      "provenance": [],
      "authorship_tag": "ABX9TyPsqCdnFPj279AUui9whdJE",
      "include_colab_link": true
    },
    "kernelspec": {
      "name": "python3",
      "display_name": "Python 3"
    },
    "language_info": {
      "name": "python"
    }
  },
  "cells": [
    {
      "cell_type": "markdown",
      "metadata": {
        "id": "view-in-github",
        "colab_type": "text"
      },
      "source": [
        "<a href=\"https://colab.research.google.com/github/satyam1906/ACM_Project/blob/main/Untitled1.ipynb\" target=\"_parent\"><img src=\"https://colab.research.google.com/assets/colab-badge.svg\" alt=\"Open In Colab\"/></a>"
      ]
    },
    {
      "cell_type": "code",
      "execution_count": 1,
      "metadata": {
        "colab": {
          "base_uri": "https://localhost:8080/"
        },
        "id": "RH4SayXSTqeh",
        "outputId": "319f19e7-23dd-4e23-d8aa-81aa42884b5f"
      },
      "outputs": [
        {
          "output_type": "stream",
          "name": "stdout",
          "text": [
            "[IAM_Words.zip]\n",
            "  End-of-central-directory signature not found.  Either this file is not\n",
            "  a zipfile, or it constitutes one disk of a multi-part archive.  In the\n",
            "  latter case the central directory and zipfile comment will be found on\n",
            "  the last disk(s) of this archive.\n",
            "unzip:  cannot find zipfile directory in one of IAM_Words.zip or\n",
            "        IAM_Words.zip.zip, and cannot find IAM_Words.zip.ZIP, period.\n",
            "tar: IAM_Words/words.tgz: Cannot open: No such file or directory\n",
            "tar: Error is not recoverable: exiting now\n",
            "mv: cannot stat 'IAM_Words/words.txt': No such file or directory\n"
          ]
        }
      ],
      "source": [
        "!wget -q \"D:\\HandWrittenTextRecognition\\dataset\\IAM Dataset\\words.zip\" -O IAM_Words.zip\n",
        "!unzip -qq IAM_Words.zip\n",
        "!\n",
        "!mkdir data\n",
        "!mkdir data/words\n",
        "!tar -xf IAM_Words/words.tgz -C data/words\n",
        "!mv IAM_Words/words.txt data"
      ]
    },
    {
      "cell_type": "code",
      "source": [
        "!head- 20 data/words.txt"
      ],
      "metadata": {
        "id": "yRPZh4M3TwcA"
      },
      "execution_count": null,
      "outputs": []
    },
    {
      "cell_type": "code",
      "source": [
        "from tensorflow.keras.layers.experimental.preprocessing import StringLookUp"
      ],
      "metadata": {
        "id": "sZ_LB_5hUlHj"
      },
      "execution_count": null,
      "outputs": []
    }
  ]
}